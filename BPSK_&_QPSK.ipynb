{
  "nbformat": 4,
  "nbformat_minor": 0,
  "metadata": {
    "colab": {
      "name": "BPSK & QPSK.ipynb",
      "provenance": [],
      "authorship_tag": "ABX9TyOd3RXDCGiTIMRmpI94ivee",
      "include_colab_link": true
    },
    "kernelspec": {
      "name": "python3",
      "display_name": "Python 3"
    },
    "language_info": {
      "name": "python"
    }
  },
  "cells": [
    {
      "cell_type": "markdown",
      "metadata": {
        "id": "view-in-github",
        "colab_type": "text"
      },
      "source": [
        "<a href=\"https://colab.research.google.com/github/roshangeoroy/CommunicationSimulations/blob/main/BPSK_%26_QPSK.ipynb\" target=\"_parent\"><img src=\"https://colab.research.google.com/assets/colab-badge.svg\" alt=\"Open In Colab\"/></a>"
      ]
    },
    {
      "cell_type": "markdown",
      "source": [
        "#BPSK\n",
        "1. Generate a string of message bits.\n",
        "2. Encode using BPSK with energy per bit Eb and represent it using points in\n",
        "a signal-space.\n",
        "3. Simulate transmission of the BPSK modulated signal via an AWGN\n",
        "channel with variance N0/2.\n",
        "4. Detect using an ML decoder and plot the probability of error as a function\n",
        "of SNR per bit Eb/N0."
      ],
      "metadata": {
        "id": "KgMrmMRxXrSk"
      }
    },
    {
      "cell_type": "code",
      "execution_count": 66,
      "metadata": {
        "id": "O6n1q15rXfgc"
      },
      "outputs": [],
      "source": [
        "import numpy as np\n",
        "import matplotlib.pyplot as plt\n",
        "from scipy.special import erfc\n",
        "t=np.linspace(0,np.pi,100)\n",
        "#Bit Generation\n",
        "def bitG(a):\n",
        "  b=np.random.randint(low=0,high=2,size=a)\n",
        "  return b"
      ]
    },
    {
      "cell_type": "code",
      "source": [
        "def power(s):\n",
        "  s=np.linalg.norm(s)/s.size\n",
        "  return s"
      ],
      "metadata": {
        "id": "09Fk2oVHQrTU"
      },
      "execution_count": 45,
      "outputs": []
    },
    {
      "cell_type": "code",
      "source": [
        "def energy(s):\n",
        "  s=np.linalg.norm(s)\n",
        "  return s"
      ],
      "metadata": {
        "id": "Is0LYE4vQ2Te"
      },
      "execution_count": 46,
      "outputs": []
    },
    {
      "cell_type": "code",
      "source": [
        "#Carrier Generation (Normalised)\n",
        "def car(phase):\n",
        "  c=np.cos((2*np.pi*t)-phase)\n",
        "  e=np.linalg.norm(c)\n",
        "  nc=c/e\n",
        "  return nc\n",
        "  "
      ],
      "metadata": {
        "id": "MQFhw7YxYI41"
      },
      "execution_count": 47,
      "outputs": []
    },
    {
      "cell_type": "code",
      "source": [
        "#BPSK of bit stream\n",
        "def bpsk(a,nc):\n",
        "  l=np.array([])\n",
        "  for bit in a:\n",
        "    if bit==0:\n",
        "       l=np.concatenate([l,-nc],axis=0)\n",
        "    else:\n",
        "       l=np.concatenate([l,nc],axis=0)\n",
        "  return l\n",
        "\n"
      ],
      "metadata": {
        "id": "uQh4M56nQ-Fo"
      },
      "execution_count": 48,
      "outputs": []
    },
    {
      "cell_type": "code",
      "source": [
        "#Trasmission through Channel\n",
        "def awgn(k,sigma):\n",
        "  n=np.random.normal(0,sigma,k.size)\n",
        "  k=k+n \n",
        "  return k\n"
      ],
      "metadata": {
        "id": "JJYjvGADSlxD"
      },
      "execution_count": 49,
      "outputs": []
    },
    {
      "cell_type": "code",
      "source": [
        "#demodulation\n",
        "def demod(l,nc):  \n",
        "  z=len(l)\n",
        "  y=len(nc)\n",
        "  h=[]\n",
        "  con=np.split(l,z/y)\n",
        "  for ar in con:\n",
        "      h.append(np.sum(nc*ar))\n",
        "  h=np.array(h)\n",
        "  return h"
      ],
      "metadata": {
        "id": "xpIMAtSGavGs"
      },
      "execution_count": 50,
      "outputs": []
    },
    {
      "cell_type": "code",
      "source": [
        "def ML_bpsk(a):\n",
        "  a[a<=0]=0\n",
        "  a[a>0]=1\n",
        "  return a "
      ],
      "metadata": {
        "id": "SPzB0FYfS6Wc"
      },
      "execution_count": 51,
      "outputs": []
    },
    {
      "cell_type": "code",
      "source": [
        "def error(i,o):\n",
        "  return np.average(np.abs(i-o))\n",
        "  "
      ],
      "metadata": {
        "id": "gC5-SlB7VDHB"
      },
      "execution_count": 52,
      "outputs": []
    },
    {
      "cell_type": "code",
      "source": [
        "B=bitG(10)\n",
        "c=car(0)\n",
        "plt.figure()\n",
        "plt.title(\"Carrier Wave\")\n",
        "plt.plot(c)\n",
        "i=bpsk(B,c)\n",
        "i=awgn(i,1)\n",
        "plt.figure()\n",
        "plt.title(\"constellation diagram\")\n",
        "plt.stem(i,np.zeros_like(i),use_line_collection=True)\n",
        "i=demod(i,c)\n",
        "i=ML_bpsk(i)\n",
        "print(B,i)\n",
        "print(error(B,i))\n"
      ],
      "metadata": {
        "colab": {
          "base_uri": "https://localhost:8080/",
          "height": 581
        },
        "id": "QlmE096pbxrz",
        "outputId": "7420eaef-abf8-421d-acf2-9f7936da6d6d"
      },
      "execution_count": 61,
      "outputs": [
        {
          "output_type": "stream",
          "name": "stdout",
          "text": [
            "[1 1 0 1 1 1 1 0 1 1] [1. 1. 0. 1. 1. 1. 1. 0. 0. 1.]\n",
            "0.1\n"
          ]
        },
        {
          "output_type": "display_data",
          "data": {
            "text/plain": [
              "<Figure size 432x288 with 1 Axes>"
            ],
            "image/png": "[encoded data removed]"
          },
          "metadata": {
            "needs_background": "light"
          }
        },
        {
          "output_type": "display_data",
          "data": {
            "text/plain": [
              "<Figure size 432x288 with 1 Axes>"
            ],
            "image/png": "[encoded data removed]"
          },
          "metadata": {
            "needs_background": "light"
          }
        }
      ]
    },
    {
      "cell_type": "code",
      "source": [
        "import math\n",
        "snr = np.arange(-4,13,2)\n",
        "#snr per bit is taken as [-4,-2,0....12]\n",
        "#snr=10*np.log10(Eb/No)\n",
        "#Since carrier is normalized, Eb is taken as 1. Therefore from the equation, No = 1/(10**(snr/10))\n",
        "No = 1/(10**(snr/10))\n",
        "ber=np.zeros_like(No)\n",
        "for i in range(len(No)):\n",
        "  b=bitG(100)\n",
        "  c=car(0)\n",
        "  j=bpsk(b,c)\n",
        "  j=awgn(j,math.sqrt(No[i]/2))\n",
        "  j=demod(j,c)\n",
        "  j=ML_bpsk(j)\n",
        "  ber[i]=error(b,j)\n",
        "BER_theory = 0.5*erfc(np.sqrt(10**(snr/10)))\n",
        "plt.semilogy(snr,ber,'o',label='BER')\n",
        "plt.semilogy(snr,BER_theory,'*-',label='BER_theory')"
      ],
      "metadata": {
        "colab": {
          "base_uri": "https://localhost:8080/",
          "height": 283
        },
        "id": "qkdCIw5gSe8z",
        "outputId": "be428a1b-4085-44a5-a7c1-8fbc3708a9f0"
      },
      "execution_count": 70,
      "outputs": [
        {
          "output_type": "execute_result",
          "data": {
            "text/plain": [
              "[<matplotlib.lines.Line2D at 0x7f9ab2ea0a50>]"
            ]
          },
          "metadata": {},
          "execution_count": 70
        },
        {
          "output_type": "display_data",
          "data": {
            "text/plain": [
              "<Figure size 432x288 with 1 Axes>"
            ],
            "image/png": "[encoded data removed]"
          },
          "metadata": {
            "needs_background": "light"
          }
        }
      ]
    },
    {
      "cell_type": "markdown",
      "source": [
        "#QPSK"
      ],
      "metadata": {
        "id": "FppLEOIhZbRR"
      }
    },
    {
      "cell_type": "code",
      "source": [
        "b=bitG(1000)\n",
        "#Demultiplexing\n",
        "o=b[::2]\n",
        "e=b[1::2]\n",
        "b,o,e\n",
        "c1=car(0)\n",
        "c2=car(np.pi/2)\n",
        "#Two Bpsk\n",
        "o=bpsk(o,c1)\n",
        "e=bpsk(e,c2)\n",
        "#QPSK signal\n",
        "l=o+e\n",
        "\n",
        "l=awgn(l,1)"
      ],
      "metadata": {
        "id": "dEIUPpgiV5ik"
      },
      "execution_count": 90,
      "outputs": []
    },
    {
      "cell_type": "code",
      "source": [
        "#Receiver End\n",
        "p=demod(l,c1)\n",
        "q=demod(l,c2)\n",
        "plt.figure(figsize=(5,5))\n",
        "plt.plot(p,q,'o')\n",
        "plt.xticks([-1,1])\n",
        "plt.yticks([-1,1])\n",
        "plt.axhline(0, color='red')\n",
        "plt.axvline(0, color='red')\n",
        "\n"
      ],
      "metadata": {
        "colab": {
          "base_uri": "https://localhost:8080/",
          "height": 320
        },
        "id": "78u-VLNsiRue",
        "outputId": "28c92740-ef1a-48e6-bbe9-9aedbde01a6f"
      },
      "execution_count": 93,
      "outputs": [
        {
          "output_type": "display_data",
          "data": {
            "text/plain": [
              "<Figure size 360x360 with 1 Axes>"
            ],
            "image/png": "[encoded data removed]"
          },
          "metadata": {
            "needs_background": "light"
          }
        }
      ]
    },
    {
      "cell_type": "code",
      "source": [
        "#multiplexing\n",
        "X=[]\n",
        "p=ML_bpsk(p)\n",
        "q=ML_bpsk(q)\n",
        "plt.figure(figsize=(5,5))\n",
        "plt.plot(p,q,'o')\n",
        "plt.xticks([0,1])\n",
        "plt.yticks([0,1])\n",
        "plt.axhline(0, color='red')\n",
        "plt.axvline(0, color='red')\n",
        "\n",
        "for i in range(len(p)):\n",
        "  X.append(p[i])\n",
        "  X.append(q[i])\n",
        "\n",
        "BER=error(X,b)\n",
        "print(BER)\n"
      ],
      "metadata": {
        "colab": {
          "base_uri": "https://localhost:8080/",
          "height": 338
        },
        "id": "QRQD2XBaiSPJ",
        "outputId": "9fa37ca6-7e6b-4a4d-d07d-0e52d9bf4202"
      },
      "execution_count": 96,
      "outputs": [
        {
          "output_type": "stream",
          "name": "stdout",
          "text": [
            "0.166\n"
          ]
        },
        {
          "output_type": "display_data",
          "data": {
            "text/plain": [
              "<Figure size 360x360 with 1 Axes>"
            ],
            "image/png": "[encoded data removed]"
          },
          "metadata": {
            "needs_background": "light"
          }
        }
      ]
    },
    {
      "cell_type": "code",
      "source": [
        ""
      ],
      "metadata": {
        "id": "eu5JWkRolzb0"
      },
      "execution_count": null,
      "outputs": []
    }
  ]
}